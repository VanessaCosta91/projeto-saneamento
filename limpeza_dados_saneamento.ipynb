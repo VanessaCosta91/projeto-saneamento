{
  "nbformat": 4,
  "nbformat_minor": 0,
  "metadata": {
    "colab": {
      "cell_execution_strategy": "setup",
      "provenance": [],
      "name": "limpeza_dados_saneamento"
    },
    "kernelspec": {
      "name": "python3",
      "display_name": "Python 3"
    },
    "language_info": {
      "name": "python"
    }
  },
  "cells": [
    {
      "cell_type": "code",
      "source": [
        "import pandas as pd"
      ],
      "metadata": {
        "id": "aJVnf6sOhYfG",
        "executionInfo": {
          "status": "ok",
          "timestamp": 1744631892313,
          "user_tz": 180,
          "elapsed": 460,
          "user": {
            "displayName": "",
            "userId": ""
          }
        }
      },
      "execution_count": 1,
      "outputs": []
    },
    {
      "cell_type": "code",
      "source": [
        "from google.cloud import bigquery"
      ],
      "metadata": {
        "id": "Y9IyQL-ahcCx",
        "executionInfo": {
          "status": "ok",
          "timestamp": 1744631952540,
          "user_tz": 180,
          "elapsed": 857,
          "user": {
            "displayName": "",
            "userId": ""
          }
        }
      },
      "execution_count": 2,
      "outputs": []
    },
    {
      "cell_type": "code",
      "source": [
        "client = bigquery.Client()\n",
        "\n",
        "query = \"\"\"\n",
        "SELECT ano, id_municipio, sigla_uf, abrangencia, tipo_servico, natureza_juridica, populacao_atendida_agua, populacao_atentida_esgoto, populacao_urbana, populacao_urbana_atendida_agua, populacao_urbana_atendida_esgoto, extensao_rede_agua, extensao_rede_esgoto, volume_agua_produzido, volume_agua_tratada_eta, volume_agua_consumido, volume_esgoto_coletado, volume_esgoto_tratado,  quantidade_ligacao_total_agua, quantidade_ligacao_total_esgoto\n",
        "FROM basedosdados.br_mdr_snis.prestador_agua_esgoto\n",
        "WHERE ano >= 2012 and ano < 2022;\n",
        "\"\"\"\n",
        "\n",
        "df_saneamento = client.query(query).to_dataframe()\n"
      ],
      "metadata": {
        "id": "NMRg4oqwraP7",
        "executionInfo": {
          "status": "ok",
          "timestamp": 1744631958349,
          "user_tz": 180,
          "elapsed": 4268,
          "user": {
            "displayName": "",
            "userId": ""
          }
        }
      },
      "execution_count": 3,
      "outputs": []
    },
    {
      "cell_type": "code",
      "source": [
        "# verifica anos disponiveis\n",
        "df_saneamento['ano'].sort_values().unique()"
      ],
      "metadata": {
        "colab": {
          "base_uri": "https://localhost:8080/"
        },
        "id": "VyS1McjHU56V",
        "executionInfo": {
          "status": "ok",
          "timestamp": 1744631960969,
          "user_tz": 180,
          "elapsed": 448,
          "user": {
            "displayName": "",
            "userId": ""
          }
        },
        "outputId": "52373ba4-3eeb-4300-8726-48436ed3a096"
      },
      "execution_count": 4,
      "outputs": [
        {
          "output_type": "execute_result",
          "data": {
            "text/plain": [
              "<IntegerArray>\n",
              "[2012, 2013, 2014, 2015, 2016, 2017, 2018, 2019, 2020, 2021]\n",
              "Length: 10, dtype: Int64"
            ]
          },
          "metadata": {},
          "execution_count": 4
        }
      ]
    },
    {
      "cell_type": "code",
      "source": [
        "# entendo dados\n",
        "print(df_saneamento.info())\n",
        "print('Descrição:\\n', df_saneamento.describe())\n",
        "print('Primeiras linhas:\\n', df_saneamento.head())\n",
        "print('últimas linhas:\\n', df_saneamento.tail())\n",
        "print('Shape:\\n', df_saneamento.shape)\n"
      ],
      "metadata": {
        "colab": {
          "base_uri": "https://localhost:8080/"
        },
        "id": "Rz__AAQDsjJy",
        "executionInfo": {
          "status": "ok",
          "timestamp": 1744631966055,
          "user_tz": 180,
          "elapsed": 454,
          "user": {
            "displayName": "",
            "userId": ""
          }
        },
        "outputId": "fc75f0a7-43ea-41bd-9b96-2b13002e2f8e"
      },
      "execution_count": 5,
      "outputs": [
        {
          "output_type": "stream",
          "name": "stdout",
          "text": [
            "<class 'pandas.core.frame.DataFrame'>\n",
            "RangeIndex: 56455 entries, 0 to 56454\n",
            "Data columns (total 20 columns):\n",
            " #   Column                            Non-Null Count  Dtype  \n",
            "---  ------                            --------------  -----  \n",
            " 0   ano                               56455 non-null  Int64  \n",
            " 1   id_municipio                      56455 non-null  object \n",
            " 2   sigla_uf                          56455 non-null  object \n",
            " 3   abrangencia                       56455 non-null  object \n",
            " 4   tipo_servico                      56455 non-null  object \n",
            " 5   natureza_juridica                 56455 non-null  object \n",
            " 6   populacao_atendida_agua           52133 non-null  Int64  \n",
            " 7   populacao_atentida_esgoto         24976 non-null  Int64  \n",
            " 8   populacao_urbana                  56455 non-null  Int64  \n",
            " 9   populacao_urbana_atendida_agua    52124 non-null  Int64  \n",
            " 10  populacao_urbana_atendida_esgoto  24977 non-null  Int64  \n",
            " 11  extensao_rede_agua                52155 non-null  float64\n",
            " 12  extensao_rede_esgoto              24962 non-null  float64\n",
            " 13  volume_agua_produzido             52185 non-null  float64\n",
            " 14  volume_agua_tratada_eta           52190 non-null  float64\n",
            " 15  volume_agua_consumido             52185 non-null  float64\n",
            " 16  volume_esgoto_coletado            24993 non-null  float64\n",
            " 17  volume_esgoto_tratado             24998 non-null  float64\n",
            " 18  quantidade_ligacao_total_agua     52163 non-null  Int64  \n",
            " 19  quantidade_ligacao_total_esgoto   24978 non-null  Int64  \n",
            "dtypes: Int64(8), float64(7), object(5)\n",
            "memory usage: 9.0+ MB\n",
            "None\n",
            "Descrição:\n",
            "                ano  populacao_atendida_agua  populacao_atentida_esgoto  \\\n",
            "count      56455.0                  52133.0                    24976.0   \n",
            "mean   2016.587937             32023.971995               41686.120075   \n",
            "std       2.882278            218285.141067              279527.631368   \n",
            "min         2012.0                      0.0                        0.0   \n",
            "25%         2014.0                   3195.0                     2860.0   \n",
            "50%         2017.0                   6944.0                     7211.0   \n",
            "75%         2019.0                  17425.0                   20099.25   \n",
            "max         2021.0               12396372.0                 12396372.0   \n",
            "\n",
            "       populacao_urbana  populacao_urbana_atendida_agua  \\\n",
            "count           56455.0                         52124.0   \n",
            "mean       33473.248605                    30539.538792   \n",
            "std       235388.033827                   217532.396693   \n",
            "min               162.0                             0.0   \n",
            "25%              3132.0                         2682.75   \n",
            "50%              6894.0                          6011.5   \n",
            "75%             17236.0                        15664.25   \n",
            "max          12284940.0                      12284940.0   \n",
            "\n",
            "       populacao_urbana_atendida_esgoto  extensao_rede_agua  \\\n",
            "count                           24977.0        52155.000000   \n",
            "mean                       41010.714497          122.522904   \n",
            "std                       278749.525456          478.008942   \n",
            "min                                 0.0            0.000000   \n",
            "25%                              2611.0           17.630000   \n",
            "50%                              6726.0           37.030000   \n",
            "75%                             19218.0           90.000000   \n",
            "max                          12284940.0        23195.260000   \n",
            "\n",
            "       extensao_rede_esgoto  volume_agua_produzido  volume_agua_tratada_eta  \\\n",
            "count          24962.000000           5.218500e+04             5.219000e+04   \n",
            "mean             123.853889           2.727335e+03             2.113324e+03   \n",
            "std              491.755600           2.015959e+04             1.848011e+04   \n",
            "min                0.000000           0.000000e+00             0.000000e+00   \n",
            "25%               13.270000           2.007500e+02             0.000000e+00   \n",
            "50%               31.970000           4.590500e+02             1.888200e+02   \n",
            "75%               86.945000           1.284780e+03             7.951325e+02   \n",
            "max            18361.660000           1.383097e+06             1.328666e+06   \n",
            "\n",
            "       volume_agua_consumido  volume_esgoto_coletado  volume_esgoto_tratado  \\\n",
            "count           5.218500e+04            24993.000000           24998.000000   \n",
            "mean            2.011505e+03             2228.558364            1648.165276   \n",
            "std             1.907791e+04            14823.814285           12552.923746   \n",
            "min             0.000000e+00                0.000000               0.000000   \n",
            "25%             1.449000e+02              121.840000               0.000000   \n",
            "50%             3.200000e+02              346.520000             150.575000   \n",
            "75%             8.498300e+02             1039.390000             619.920000   \n",
            "max             1.329177e+06           574469.440000          543833.640000   \n",
            "\n",
            "       quantidade_ligacao_total_agua  quantidade_ligacao_total_esgoto  \n",
            "count                        52163.0                          24978.0  \n",
            "mean                    10622.062266                     12395.497878  \n",
            "std                     60338.288629                     70708.288189  \n",
            "min                              0.0                              0.0  \n",
            "25%                           1350.0                           1080.0  \n",
            "50%                           2806.0                           2632.0  \n",
            "75%                           6735.0                           7279.5  \n",
            "max                        3755238.0                        3294368.0  \n",
            "Primeiras linhas:\n",
            "     ano id_municipio sigla_uf abrangencia   tipo_servico  \\\n",
            "0  2021      2910859       BA       Local  Esgotos         \n",
            "1  2020      3200508       ES       Local  Esgotos         \n",
            "2  2019      3201506       ES       Local  Agua e Esgoto   \n",
            "3  2019      5205109       GO       Local  Agua e Esgoto   \n",
            "4  2020      5205471       GO       Local  Agua e Esgoto   \n",
            "\n",
            "              natureza_juridica  populacao_atendida_agua  \\\n",
            "0  Administracao publica direta                     <NA>   \n",
            "1  Administracao publica direta                     <NA>   \n",
            "2                     Autarquia                   122400   \n",
            "3                     Autarquia                   108823   \n",
            "4                     Autarquia                     8804   \n",
            "\n",
            "   populacao_atentida_esgoto  populacao_urbana  \\\n",
            "0                       7518              8792   \n",
            "1                       1500              5240   \n",
            "2                     104443            107823   \n",
            "3                      65294            101811   \n",
            "4                       7767              8804   \n",
            "\n",
            "   populacao_urbana_atendida_agua  populacao_urbana_atendida_esgoto  \\\n",
            "0                            <NA>                              7518   \n",
            "1                            <NA>                              1500   \n",
            "2                          107712                            104442   \n",
            "3                          101811                             65294   \n",
            "4                            8804                              7767   \n",
            "\n",
            "   extensao_rede_agua  extensao_rede_esgoto  volume_agua_produzido  \\\n",
            "0                 NaN                 25.80                    NaN   \n",
            "1                 NaN                  1.90                    NaN   \n",
            "2              340.00                210.00               10707.00   \n",
            "3              502.32                360.69                9834.35   \n",
            "4               88.99                 91.30                2301.00   \n",
            "\n",
            "   volume_agua_tratada_eta  volume_agua_consumido  volume_esgoto_coletado  \\\n",
            "0                      NaN                    NaN                  100.00   \n",
            "1                      NaN                    NaN                   50.00   \n",
            "2                 10634.00                6545.00                 8419.00   \n",
            "3                  6744.35                4814.26                 3034.19   \n",
            "4                  2010.00                1645.00                  943.00   \n",
            "\n",
            "   volume_esgoto_tratado  quantidade_ligacao_total_agua  \\\n",
            "0                   0.00                           <NA>   \n",
            "1                  40.00                           <NA>   \n",
            "2                  44.00                          32246   \n",
            "3                2414.86                          46014   \n",
            "4                 943.00                           4495   \n",
            "\n",
            "   quantidade_ligacao_total_esgoto  \n",
            "0                             3583  \n",
            "1                              550  \n",
            "2                            27341  \n",
            "3                            27810  \n",
            "4                             3469  \n",
            "últimas linhas:\n",
            "         ano id_municipio sigla_uf abrangencia   tipo_servico  \\\n",
            "56450  2015      2411809       RN       Local  Esgoto          \n",
            "56451  2012      4307609       RS    Regional  Agua e Esgoto   \n",
            "56452  2014      4213005       SC       Local  Esgoto          \n",
            "56453  2014      2806107       SE       Local  Esgoto          \n",
            "56454  2014      3549300       SP       Local  Agua e Esgoto   \n",
            "\n",
            "                                       natureza_juridica  \\\n",
            "56450                       Administracao publica direta   \n",
            "56451  Sociedade de economia mista com administracao ...   \n",
            "56452                       Administracao publica direta   \n",
            "56453                       Administracao publica direta   \n",
            "56454                       Administracao publica direta   \n",
            "\n",
            "       populacao_atendida_agua  populacao_atentida_esgoto  populacao_urbana  \\\n",
            "56450                     <NA>                       2187              2423   \n",
            "56451                    32954                       1363             42579   \n",
            "56452                     <NA>                        759              1811   \n",
            "56453                     <NA>                      10013              7194   \n",
            "56454                     1739                       1739              1739   \n",
            "\n",
            "       populacao_urbana_atendida_agua  populacao_urbana_atendida_esgoto  \\\n",
            "56450                            <NA>                              2187   \n",
            "56451                           32954                              1363   \n",
            "56452                            <NA>                               759   \n",
            "56453                            <NA>                              7194   \n",
            "56454                            1739                              1739   \n",
            "\n",
            "       extensao_rede_agua  extensao_rede_esgoto  volume_agua_produzido  \\\n",
            "56450                 NaN                  11.7                    NaN   \n",
            "56451              145.99                   7.2                    0.0   \n",
            "56452                 NaN                   7.2                    NaN   \n",
            "56453                 NaN                   7.0                    NaN   \n",
            "56454               61.00                  20.0                  892.0   \n",
            "\n",
            "       volume_agua_tratada_eta  volume_agua_consumido  volume_esgoto_coletado  \\\n",
            "56450                      NaN                    NaN                    93.0   \n",
            "56451                      0.0                 1633.4                    61.0   \n",
            "56452                      NaN                    NaN                    49.0   \n",
            "56453                      NaN                    NaN                   500.0   \n",
            "56454                      0.0                   52.0                    57.0   \n",
            "\n",
            "       volume_esgoto_tratado  quantidade_ligacao_total_agua  \\\n",
            "56450                  93.00                           <NA>   \n",
            "56451                  60.86                          10995   \n",
            "56452                   0.00                           <NA>   \n",
            "56453                 500.00                           <NA>   \n",
            "56454                   0.00                            892   \n",
            "\n",
            "       quantidade_ligacao_total_esgoto  \n",
            "56450                              964  \n",
            "56451                              462  \n",
            "56452                              310  \n",
            "56453                              200  \n",
            "56454                              892  \n",
            "Shape:\n",
            " (56455, 20)\n"
          ]
        }
      ]
    },
    {
      "cell_type": "code",
      "source": [
        "# normatizando dataframe\n",
        "for col in df_saneamento.select_dtypes(include='object').columns:\n",
        "  df_saneamento[col] = df_saneamento[col].str.strip().str.lower()"
      ],
      "metadata": {
        "id": "GkxNWYF2leNB",
        "executionInfo": {
          "status": "ok",
          "timestamp": 1744631975930,
          "user_tz": 180,
          "elapsed": 472,
          "user": {
            "displayName": "",
            "userId": ""
          }
        }
      },
      "execution_count": 6,
      "outputs": []
    },
    {
      "cell_type": "code",
      "source": [
        "#verificando nulos\n",
        "df_saneamento.isnull().sum().sort_values(ascending=False)"
      ],
      "metadata": {
        "colab": {
          "base_uri": "https://localhost:8080/",
          "height": 711
        },
        "id": "nE25f-LVxcLY",
        "executionInfo": {
          "status": "ok",
          "timestamp": 1744631987336,
          "user_tz": 180,
          "elapsed": 451,
          "user": {
            "displayName": "",
            "userId": ""
          }
        },
        "outputId": "f270a289-72f6-492e-a94b-ce1ff25992f4"
      },
      "execution_count": 8,
      "outputs": [
        {
          "output_type": "execute_result",
          "data": {
            "text/plain": [
              "extensao_rede_esgoto                31493\n",
              "populacao_atentida_esgoto           31479\n",
              "populacao_urbana_atendida_esgoto    31478\n",
              "quantidade_ligacao_total_esgoto     31477\n",
              "volume_esgoto_coletado              31462\n",
              "volume_esgoto_tratado               31457\n",
              "populacao_urbana_atendida_agua       4331\n",
              "populacao_atendida_agua              4322\n",
              "extensao_rede_agua                   4300\n",
              "quantidade_ligacao_total_agua        4292\n",
              "volume_agua_produzido                4270\n",
              "volume_agua_consumido                4270\n",
              "volume_agua_tratada_eta              4265\n",
              "tipo_servico                            0\n",
              "natureza_juridica                       0\n",
              "abrangencia                             0\n",
              "populacao_urbana                        0\n",
              "id_municipio                            0\n",
              "sigla_uf                                0\n",
              "ano                                     0\n",
              "dtype: int64"
            ],
            "text/html": [
              "<div>\n",
              "<style scoped>\n",
              "    .dataframe tbody tr th:only-of-type {\n",
              "        vertical-align: middle;\n",
              "    }\n",
              "\n",
              "    .dataframe tbody tr th {\n",
              "        vertical-align: top;\n",
              "    }\n",
              "\n",
              "    .dataframe thead th {\n",
              "        text-align: right;\n",
              "    }\n",
              "</style>\n",
              "<table border=\"1\" class=\"dataframe\">\n",
              "  <thead>\n",
              "    <tr style=\"text-align: right;\">\n",
              "      <th></th>\n",
              "      <th>0</th>\n",
              "    </tr>\n",
              "  </thead>\n",
              "  <tbody>\n",
              "    <tr>\n",
              "      <th>extensao_rede_esgoto</th>\n",
              "      <td>31493</td>\n",
              "    </tr>\n",
              "    <tr>\n",
              "      <th>populacao_atentida_esgoto</th>\n",
              "      <td>31479</td>\n",
              "    </tr>\n",
              "    <tr>\n",
              "      <th>populacao_urbana_atendida_esgoto</th>\n",
              "      <td>31478</td>\n",
              "    </tr>\n",
              "    <tr>\n",
              "      <th>quantidade_ligacao_total_esgoto</th>\n",
              "      <td>31477</td>\n",
              "    </tr>\n",
              "    <tr>\n",
              "      <th>volume_esgoto_coletado</th>\n",
              "      <td>31462</td>\n",
              "    </tr>\n",
              "    <tr>\n",
              "      <th>volume_esgoto_tratado</th>\n",
              "      <td>31457</td>\n",
              "    </tr>\n",
              "    <tr>\n",
              "      <th>populacao_urbana_atendida_agua</th>\n",
              "      <td>4331</td>\n",
              "    </tr>\n",
              "    <tr>\n",
              "      <th>populacao_atendida_agua</th>\n",
              "      <td>4322</td>\n",
              "    </tr>\n",
              "    <tr>\n",
              "      <th>extensao_rede_agua</th>\n",
              "      <td>4300</td>\n",
              "    </tr>\n",
              "    <tr>\n",
              "      <th>quantidade_ligacao_total_agua</th>\n",
              "      <td>4292</td>\n",
              "    </tr>\n",
              "    <tr>\n",
              "      <th>volume_agua_produzido</th>\n",
              "      <td>4270</td>\n",
              "    </tr>\n",
              "    <tr>\n",
              "      <th>volume_agua_consumido</th>\n",
              "      <td>4270</td>\n",
              "    </tr>\n",
              "    <tr>\n",
              "      <th>volume_agua_tratada_eta</th>\n",
              "      <td>4265</td>\n",
              "    </tr>\n",
              "    <tr>\n",
              "      <th>tipo_servico</th>\n",
              "      <td>0</td>\n",
              "    </tr>\n",
              "    <tr>\n",
              "      <th>natureza_juridica</th>\n",
              "      <td>0</td>\n",
              "    </tr>\n",
              "    <tr>\n",
              "      <th>abrangencia</th>\n",
              "      <td>0</td>\n",
              "    </tr>\n",
              "    <tr>\n",
              "      <th>populacao_urbana</th>\n",
              "      <td>0</td>\n",
              "    </tr>\n",
              "    <tr>\n",
              "      <th>id_municipio</th>\n",
              "      <td>0</td>\n",
              "    </tr>\n",
              "    <tr>\n",
              "      <th>sigla_uf</th>\n",
              "      <td>0</td>\n",
              "    </tr>\n",
              "    <tr>\n",
              "      <th>ano</th>\n",
              "      <td>0</td>\n",
              "    </tr>\n",
              "  </tbody>\n",
              "</table>\n",
              "</div><br><label><b>dtype:</b> int64</label>"
            ]
          },
          "metadata": {},
          "execution_count": 8
        }
      ]
    },
    {
      "cell_type": "code",
      "source": [
        "# tratando nulos. Existe municipios com dois ou mais prestadores de serviço, e só aprece informação do serviço prestado por cada um\n",
        "df_saneamento.fillna(0, inplace=True)"
      ],
      "metadata": {
        "id": "jum2piEky3vg",
        "executionInfo": {
          "status": "ok",
          "timestamp": 1744631990569,
          "user_tz": 180,
          "elapsed": 447,
          "user": {
            "displayName": "",
            "userId": ""
          }
        }
      },
      "execution_count": 9,
      "outputs": []
    },
    {
      "cell_type": "code",
      "source": [
        "# verificar tratamento de nulos\n",
        "df_saneamento.isnull().sum().sort_values(ascending=False)"
      ],
      "metadata": {
        "colab": {
          "base_uri": "https://localhost:8080/",
          "height": 711
        },
        "id": "IbzHxqX9zkNN",
        "executionInfo": {
          "status": "ok",
          "timestamp": 1744631993543,
          "user_tz": 180,
          "elapsed": 488,
          "user": {
            "displayName": "",
            "userId": ""
          }
        },
        "outputId": "3129bede-8136-4b15-be7a-dac0b2f48c35"
      },
      "execution_count": 10,
      "outputs": [
        {
          "output_type": "execute_result",
          "data": {
            "text/plain": [
              "ano                                 0\n",
              "id_municipio                        0\n",
              "quantidade_ligacao_total_agua       0\n",
              "volume_esgoto_tratado               0\n",
              "volume_esgoto_coletado              0\n",
              "volume_agua_consumido               0\n",
              "volume_agua_tratada_eta             0\n",
              "volume_agua_produzido               0\n",
              "extensao_rede_esgoto                0\n",
              "extensao_rede_agua                  0\n",
              "populacao_urbana_atendida_esgoto    0\n",
              "populacao_urbana_atendida_agua      0\n",
              "populacao_urbana                    0\n",
              "populacao_atentida_esgoto           0\n",
              "populacao_atendida_agua             0\n",
              "natureza_juridica                   0\n",
              "tipo_servico                        0\n",
              "abrangencia                         0\n",
              "sigla_uf                            0\n",
              "quantidade_ligacao_total_esgoto     0\n",
              "dtype: int64"
            ],
            "text/html": [
              "<div>\n",
              "<style scoped>\n",
              "    .dataframe tbody tr th:only-of-type {\n",
              "        vertical-align: middle;\n",
              "    }\n",
              "\n",
              "    .dataframe tbody tr th {\n",
              "        vertical-align: top;\n",
              "    }\n",
              "\n",
              "    .dataframe thead th {\n",
              "        text-align: right;\n",
              "    }\n",
              "</style>\n",
              "<table border=\"1\" class=\"dataframe\">\n",
              "  <thead>\n",
              "    <tr style=\"text-align: right;\">\n",
              "      <th></th>\n",
              "      <th>0</th>\n",
              "    </tr>\n",
              "  </thead>\n",
              "  <tbody>\n",
              "    <tr>\n",
              "      <th>ano</th>\n",
              "      <td>0</td>\n",
              "    </tr>\n",
              "    <tr>\n",
              "      <th>id_municipio</th>\n",
              "      <td>0</td>\n",
              "    </tr>\n",
              "    <tr>\n",
              "      <th>quantidade_ligacao_total_agua</th>\n",
              "      <td>0</td>\n",
              "    </tr>\n",
              "    <tr>\n",
              "      <th>volume_esgoto_tratado</th>\n",
              "      <td>0</td>\n",
              "    </tr>\n",
              "    <tr>\n",
              "      <th>volume_esgoto_coletado</th>\n",
              "      <td>0</td>\n",
              "    </tr>\n",
              "    <tr>\n",
              "      <th>volume_agua_consumido</th>\n",
              "      <td>0</td>\n",
              "    </tr>\n",
              "    <tr>\n",
              "      <th>volume_agua_tratada_eta</th>\n",
              "      <td>0</td>\n",
              "    </tr>\n",
              "    <tr>\n",
              "      <th>volume_agua_produzido</th>\n",
              "      <td>0</td>\n",
              "    </tr>\n",
              "    <tr>\n",
              "      <th>extensao_rede_esgoto</th>\n",
              "      <td>0</td>\n",
              "    </tr>\n",
              "    <tr>\n",
              "      <th>extensao_rede_agua</th>\n",
              "      <td>0</td>\n",
              "    </tr>\n",
              "    <tr>\n",
              "      <th>populacao_urbana_atendida_esgoto</th>\n",
              "      <td>0</td>\n",
              "    </tr>\n",
              "    <tr>\n",
              "      <th>populacao_urbana_atendida_agua</th>\n",
              "      <td>0</td>\n",
              "    </tr>\n",
              "    <tr>\n",
              "      <th>populacao_urbana</th>\n",
              "      <td>0</td>\n",
              "    </tr>\n",
              "    <tr>\n",
              "      <th>populacao_atentida_esgoto</th>\n",
              "      <td>0</td>\n",
              "    </tr>\n",
              "    <tr>\n",
              "      <th>populacao_atendida_agua</th>\n",
              "      <td>0</td>\n",
              "    </tr>\n",
              "    <tr>\n",
              "      <th>natureza_juridica</th>\n",
              "      <td>0</td>\n",
              "    </tr>\n",
              "    <tr>\n",
              "      <th>tipo_servico</th>\n",
              "      <td>0</td>\n",
              "    </tr>\n",
              "    <tr>\n",
              "      <th>abrangencia</th>\n",
              "      <td>0</td>\n",
              "    </tr>\n",
              "    <tr>\n",
              "      <th>sigla_uf</th>\n",
              "      <td>0</td>\n",
              "    </tr>\n",
              "    <tr>\n",
              "      <th>quantidade_ligacao_total_esgoto</th>\n",
              "      <td>0</td>\n",
              "    </tr>\n",
              "  </tbody>\n",
              "</table>\n",
              "</div><br><label><b>dtype:</b> int64</label>"
            ]
          },
          "metadata": {},
          "execution_count": 10
        }
      ]
    },
    {
      "cell_type": "code",
      "source": [
        "# verificação de duplicados\n",
        "df_saneamento.duplicated().sum()\n"
      ],
      "metadata": {
        "colab": {
          "base_uri": "https://localhost:8080/"
        },
        "id": "Pn7u5QY50lLo",
        "executionInfo": {
          "status": "ok",
          "timestamp": 1744632000121,
          "user_tz": 180,
          "elapsed": 455,
          "user": {
            "displayName": "",
            "userId": ""
          }
        },
        "outputId": "239849fd-307f-46f6-bfcd-d4a2b92c12bd"
      },
      "execution_count": 11,
      "outputs": [
        {
          "output_type": "execute_result",
          "data": {
            "text/plain": [
              "0"
            ]
          },
          "metadata": {},
          "execution_count": 11
        }
      ]
    },
    {
      "cell_type": "code",
      "source": [
        "# padronizar coluna tipo_servico\n",
        "df_saneamento['tipo_servico'] = df_saneamento['tipo_servico'].replace({'esgotos': 'esgoto'})\n",
        "\n",
        "df_saneamento['tipo_servico'].unique()"
      ],
      "metadata": {
        "colab": {
          "base_uri": "https://localhost:8080/"
        },
        "id": "pllxmp5lhMVB",
        "executionInfo": {
          "status": "ok",
          "timestamp": 1744632004705,
          "user_tz": 180,
          "elapsed": 469,
          "user": {
            "displayName": "",
            "userId": ""
          }
        },
        "outputId": "f5e98c0e-60d1-424a-9a92-7d1984dd2ec3"
      },
      "execution_count": 12,
      "outputs": [
        {
          "output_type": "execute_result",
          "data": {
            "text/plain": [
              "array(['esgoto', 'agua e esgoto', 'agua'], dtype=object)"
            ]
          },
          "metadata": {},
          "execution_count": 12
        }
      ]
    },
    {
      "cell_type": "code",
      "source": [
        "# buscando outro conjunto de dados\n",
        "query_municipios = \"\"\"\n",
        "SELECT `Código Município Completo` AS id_municipio_ibge, `Nome_Município` AS `nome_municipio`\n",
        "FROM `saneamentobasicobrasil-456115.saneamento_br.municipios_ibge`\n",
        "\"\"\"\n",
        "df_municipios = client.query(query_municipios).to_dataframe()\n"
      ],
      "metadata": {
        "id": "7ioB24JeSYnB",
        "executionInfo": {
          "status": "ok",
          "timestamp": 1744632011194,
          "user_tz": 180,
          "elapsed": 4117,
          "user": {
            "displayName": "",
            "userId": ""
          }
        }
      },
      "execution_count": 13,
      "outputs": []
    },
    {
      "cell_type": "code",
      "source": [
        "# nortatizando tipos\n",
        "df_saneamento['id_municipio'] = df_saneamento['id_municipio'].astype(int)\n",
        "\n",
        "df_saneamento = df_saneamento.merge(df_municipios, left_on='id_municipio', right_on='id_municipio_ibge', how='left')"
      ],
      "metadata": {
        "id": "VuNu1PBQUG0x",
        "executionInfo": {
          "status": "ok",
          "timestamp": 1744632013255,
          "user_tz": 180,
          "elapsed": 1,
          "user": {
            "displayName": "",
            "userId": ""
          }
        }
      },
      "execution_count": 14,
      "outputs": []
    },
    {
      "cell_type": "code",
      "source": [
        "pip install pandas-gbq"
      ],
      "metadata": {
        "id": "QW4_dejRai-b",
        "executionInfo": {
          "status": "ok",
          "timestamp": 1744632019638,
          "user_tz": 180,
          "elapsed": 4121,
          "user": {
            "displayName": "",
            "userId": ""
          }
        },
        "outputId": "34ed9130-fd4f-4e32-e6a8-33f458457b9d",
        "colab": {
          "base_uri": "https://localhost:8080/"
        }
      },
      "execution_count": 15,
      "outputs": [
        {
          "output_type": "stream",
          "name": "stdout",
          "text": [
            "Requirement already satisfied: pandas-gbq in /usr/local/lib/python3.10/dist-packages (0.26.1)\n",
            "Requirement already satisfied: setuptools in /usr/local/lib/python3.10/dist-packages (from pandas-gbq) (69.5.1)\n",
            "Requirement already satisfied: db-dtypes<2.0.0,>=1.0.4 in /usr/local/lib/python3.10/dist-packages (from pandas-gbq) (1.4.2)\n",
            "Requirement already satisfied: numpy>=1.18.1 in /usr/local/lib/python3.10/dist-packages (from pandas-gbq) (1.26.4)\n",
            "Requirement already satisfied: pandas>=1.1.4 in /usr/local/lib/python3.10/dist-packages (from pandas-gbq) (2.2.2)\n",
            "Requirement already satisfied: pyarrow>=4.0.0 in /usr/local/lib/python3.10/dist-packages (from pandas-gbq) (17.0.0)\n",
            "Requirement already satisfied: pydata-google-auth>=1.5.0 in /usr/local/lib/python3.10/dist-packages (from pandas-gbq) (1.9.0)\n",
            "Requirement already satisfied: google-api-core<3.0.0dev,>=2.10.2 in /usr/local/lib/python3.10/dist-packages (from pandas-gbq) (2.19.2)\n",
            "Requirement already satisfied: google-auth>=2.13.0 in /usr/local/lib/python3.10/dist-packages (from pandas-gbq) (2.27.0)\n",
            "Requirement already satisfied: google-auth-oauthlib>=0.7.0 in /usr/local/lib/python3.10/dist-packages (from pandas-gbq) (1.2.1)\n",
            "Requirement already satisfied: google-cloud-bigquery<4.0.0dev,>=3.4.2 in /usr/local/lib/python3.10/dist-packages (from pandas-gbq) (3.25.0)\n",
            "Requirement already satisfied: packaging>=22.0.0 in /usr/local/lib/python3.10/dist-packages (from pandas-gbq) (24.2)\n",
            "Requirement already satisfied: googleapis-common-protos<2.0.dev0,>=1.56.2 in /usr/local/lib/python3.10/dist-packages (from google-api-core<3.0.0dev,>=2.10.2->pandas-gbq) (1.66.0)\n",
            "Requirement already satisfied: protobuf!=3.20.0,!=3.20.1,!=4.21.0,!=4.21.1,!=4.21.2,!=4.21.3,!=4.21.4,!=4.21.5,<6.0.0.dev0,>=3.19.5 in /usr/local/lib/python3.10/dist-packages (from google-api-core<3.0.0dev,>=2.10.2->pandas-gbq) (4.25.5)\n",
            "Requirement already satisfied: proto-plus<2.0.0dev,>=1.22.3 in /usr/local/lib/python3.10/dist-packages (from google-api-core<3.0.0dev,>=2.10.2->pandas-gbq) (1.25.0)\n",
            "Requirement already satisfied: requests<3.0.0.dev0,>=2.18.0 in /usr/local/lib/python3.10/dist-packages (from google-api-core<3.0.0dev,>=2.10.2->pandas-gbq) (2.32.3)\n",
            "Requirement already satisfied: cachetools<6.0,>=2.0.0 in /usr/local/lib/python3.10/dist-packages (from google-auth>=2.13.0->pandas-gbq) (5.5.0)\n",
            "Requirement already satisfied: pyasn1-modules>=0.2.1 in /usr/local/lib/python3.10/dist-packages (from google-auth>=2.13.0->pandas-gbq) (0.4.1)\n",
            "Requirement already satisfied: rsa<5,>=3.1.4 in /usr/local/lib/python3.10/dist-packages (from google-auth>=2.13.0->pandas-gbq) (4.9)\n",
            "Requirement already satisfied: requests-oauthlib>=0.7.0 in /usr/local/lib/python3.10/dist-packages (from google-auth-oauthlib>=0.7.0->pandas-gbq) (1.3.1)\n",
            "Requirement already satisfied: google-cloud-core<3.0.0dev,>=1.6.0 in /usr/local/lib/python3.10/dist-packages (from google-cloud-bigquery<4.0.0dev,>=3.4.2->pandas-gbq) (2.4.1)\n",
            "Requirement already satisfied: google-resumable-media<3.0dev,>=0.6.0 in /usr/local/lib/python3.10/dist-packages (from google-cloud-bigquery<4.0.0dev,>=3.4.2->pandas-gbq) (2.7.2)\n",
            "Requirement already satisfied: python-dateutil<3.0dev,>=2.7.2 in /usr/local/lib/python3.10/dist-packages (from google-cloud-bigquery<4.0.0dev,>=3.4.2->pandas-gbq) (2.8.2)\n",
            "Requirement already satisfied: pytz>=2020.1 in /usr/local/lib/python3.10/dist-packages (from pandas>=1.1.4->pandas-gbq) (2024.2)\n",
            "Requirement already satisfied: tzdata>=2022.7 in /usr/local/lib/python3.10/dist-packages (from pandas>=1.1.4->pandas-gbq) (2024.2)\n",
            "Requirement already satisfied: grpcio<2.0dev,>=1.33.2 in /usr/local/lib/python3.10/dist-packages (from google-api-core[grpc]!=2.0.*,!=2.1.*,!=2.10.*,!=2.2.*,!=2.3.*,!=2.4.*,!=2.5.*,!=2.6.*,!=2.7.*,!=2.8.*,!=2.9.*,<3.0.0dev,>=1.34.1->google-cloud-bigquery<4.0.0dev,>=3.4.2->pandas-gbq) (1.69.0)\n",
            "Requirement already satisfied: grpcio-status<2.0.dev0,>=1.33.2 in /usr/local/lib/python3.10/dist-packages (from google-api-core[grpc]!=2.0.*,!=2.1.*,!=2.10.*,!=2.2.*,!=2.3.*,!=2.4.*,!=2.5.*,!=2.6.*,!=2.7.*,!=2.8.*,!=2.9.*,<3.0.0dev,>=1.34.1->google-cloud-bigquery<4.0.0dev,>=3.4.2->pandas-gbq) (1.62.3)\n",
            "Requirement already satisfied: google-crc32c<2.0dev,>=1.0 in /usr/local/lib/python3.10/dist-packages (from google-resumable-media<3.0dev,>=0.6.0->google-cloud-bigquery<4.0.0dev,>=3.4.2->pandas-gbq) (1.6.0)\n",
            "Requirement already satisfied: pyasn1<0.7.0,>=0.4.6 in /usr/local/lib/python3.10/dist-packages (from pyasn1-modules>=0.2.1->google-auth>=2.13.0->pandas-gbq) (0.6.1)\n",
            "Requirement already satisfied: six>=1.5 in /usr/local/lib/python3.10/dist-packages (from python-dateutil<3.0dev,>=2.7.2->google-cloud-bigquery<4.0.0dev,>=3.4.2->pandas-gbq) (1.17.0)\n",
            "Requirement already satisfied: charset-normalizer<4,>=2 in /usr/local/lib/python3.10/dist-packages (from requests<3.0.0.dev0,>=2.18.0->google-api-core<3.0.0dev,>=2.10.2->pandas-gbq) (3.4.1)\n",
            "Requirement already satisfied: idna<4,>=2.5 in /usr/local/lib/python3.10/dist-packages (from requests<3.0.0.dev0,>=2.18.0->google-api-core<3.0.0dev,>=2.10.2->pandas-gbq) (3.10)\n",
            "Requirement already satisfied: urllib3<3,>=1.21.1 in /usr/local/lib/python3.10/dist-packages (from requests<3.0.0.dev0,>=2.18.0->google-api-core<3.0.0dev,>=2.10.2->pandas-gbq) (2.3.0)\n",
            "Requirement already satisfied: certifi>=2017.4.17 in /usr/local/lib/python3.10/dist-packages (from requests<3.0.0.dev0,>=2.18.0->google-api-core<3.0.0dev,>=2.10.2->pandas-gbq) (2024.12.14)\n",
            "Requirement already satisfied: oauthlib>=3.0.0 in /usr/local/lib/python3.10/dist-packages (from requests-oauthlib>=0.7.0->google-auth-oauthlib>=0.7.0->pandas-gbq) (3.2.2)\n"
          ]
        }
      ]
    },
    {
      "cell_type": "code",
      "source": [
        "from pandas_gbq import to_gbq\n",
        "\n",
        "# salvar\n",
        "to_gbq(df_saneamento,\n",
        "       destination_table='saneamento_br.dado_saneamento_limmpos', project_id='saneamentobasicobrasil-456115', if_exists='replace')"
      ],
      "metadata": {
        "colab": {
          "base_uri": "https://localhost:8080/"
        },
        "id": "s5RLd1aEWqBE",
        "executionInfo": {
          "status": "ok",
          "timestamp": 1744632051860,
          "user_tz": 180,
          "elapsed": 4923,
          "user": {
            "displayName": "",
            "userId": ""
          }
        },
        "outputId": "42705717-441a-43f6-c6e3-f70bd945472d"
      },
      "execution_count": 17,
      "outputs": [
        {
          "output_type": "stream",
          "name": "stderr",
          "text": [
            "100%|██████████| 1/1 [00:00<00:00, 6043.67it/s]\n"
          ]
        }
      ]
    }
  ]
}